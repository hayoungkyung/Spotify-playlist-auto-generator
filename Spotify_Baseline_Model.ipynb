{
 "cells": [
  {
   "cell_type": "markdown",
   "metadata": {},
   "source": [
    "# CS109A Final Project - Spotify Baseline Model\n",
    "\n",
    "## Introduction - Features"
   ]
  },
  {
   "cell_type": "code",
   "execution_count": 11,
   "metadata": {},
   "outputs": [],
   "source": [
    "import pandas as pd\n",
    "import os\n",
    "import glob\n",
    "import csv\n",
    "import matplotlib.pyplot as plt\n",
    "import numpy as np\n",
    "import seaborn as sns\n",
    "#import pd.rpy.common as com\n",
    "from sklearn.cluster import KMeans\n",
    "from sklearn.model_selection import train_test_split\n",
    "from sklearn.ensemble import RandomForestClassifier\n",
    "from sklearn.metrics import accuracy_score\n",
    "import matplotlib.cm as cm\n",
    "import random\n",
    "\n",
    "\n",
    "%matplotlib inline"
   ]
  },
  {
   "cell_type": "code",
   "execution_count": 12,
   "metadata": {},
   "outputs": [],
   "source": [
    "# get path to the folder\n",
    "DATA_PATH = \"../Songs_features/\"\n",
    "All_Files = glob.glob('{}*.csv'.format(DATA_PATH))"
   ]
  },
  {
   "cell_type": "markdown",
   "metadata": {},
   "source": [
    "# Train Set"
   ]
  },
  {
   "cell_type": "code",
   "execution_count": 13,
   "metadata": {},
   "outputs": [
    {
     "name": "stdout",
     "output_type": "stream",
     "text": [
      "50 files done!\n",
      "100 files done!\n"
     ]
    }
   ],
   "source": [
    "train_files, test_files = train_test_split(All_Files, test_size=0.2, random_state=42)\n",
    "params = [\"duration_ms\", \"danceability\", \"energy\", \"key\", \"mode\", \"instrumentalness\", \"liveness\", \"valence\", \"tempo\", \"popularity\"]\n",
    "count = 0\n",
    "for n,file in enumerate(train_files[0:100]):\n",
    "    df_songs_temp = pd.read_csv(file)\n",
    "    df_songs_temp = df_songs_temp.dropna()\n",
    "    \n",
    "    df_songs_playlist_ids = list(set(df_songs_temp['pid']))\n",
    "    \n",
    "    for play_id in df_songs_playlist_ids:\n",
    "        df_songs_temp_restricted = df_songs_temp[df_songs_temp[\"pid\"] == play_id][params].copy()\n",
    "        if count == 0:\n",
    "            playlist_mean_params = [df_songs_temp_restricted.mean(axis=0).values]\n",
    "            count += 1\n",
    "        else:\n",
    "            playlist_mean_params = np.append(playlist_mean_params,[df_songs_temp_restricted.mean(axis=0).values],axis=0)\n",
    "    # check execution\n",
    "    if (n+1) % 50 == 0:\n",
    "        print((n+1), \"files done!\")\n"
   ]
  },
  {
   "cell_type": "markdown",
   "metadata": {},
   "source": [
    "# Create labels for Playlists in train set"
   ]
  },
  {
   "cell_type": "code",
   "execution_count": 14,
   "metadata": {},
   "outputs": [],
   "source": [
    "clusterer = KMeans(n_clusters=4, random_state=0)\n",
    "clusterer.fit(playlist_mean_params)\n",
    "cluster_labels = clusterer.fit_predict(playlist_mean_params)"
   ]
  },
  {
   "cell_type": "markdown",
   "metadata": {},
   "source": [
    "# Create labels for Songs contained in Playlists in train set"
   ]
  },
  {
   "cell_type": "code",
   "execution_count": 15,
   "metadata": {},
   "outputs": [
    {
     "name": "stdout",
     "output_type": "stream",
     "text": [
      "1 files done!\n",
      "2 files done!\n",
      "3 files done!\n",
      "4 files done!\n",
      "5 files done!\n",
      "6 files done!\n",
      "7 files done!\n",
      "8 files done!\n",
      "9 files done!\n",
      "10 files done!\n"
     ]
    }
   ],
   "source": [
    "params2 = [\"track_uri\", \"duration_ms\", \"danceability\", \"energy\", \"key\", \"mode\", \"instrumentalness\", \"liveness\", \"valence\", \"tempo\", \"popularity\"]\n",
    "count = 0\n",
    "for n,file in enumerate(train_files[0:10]):\n",
    "    df_songs_temp = pd.read_csv(file)\n",
    "    df_songs_temp = df_songs_temp.dropna()\n",
    "    \n",
    "    df_songs_playlist_ids = list(set(df_songs_temp['pid']))\n",
    "    \n",
    "    for play_id in df_songs_playlist_ids:\n",
    "\n",
    "        df_songs_temp_restricted = df_songs_temp[df_songs_temp[\"pid\"] == play_id][params2].copy()\n",
    "        df_songs_temp_restricted[\"cluster_id\"] = cluster_labels[n]\n",
    "        if count == 0:\n",
    "            full_frame = df_songs_temp_restricted.copy()\n",
    "            count += 1\n",
    "        else:\n",
    "            full_frame = pd.concat([full_frame,df_songs_temp_restricted])\n",
    "    # check execution\n",
    "    print((n+1), \"files done!\")"
   ]
  },
  {
   "cell_type": "markdown",
   "metadata": {},
   "source": [
    "# Fit a Random Forest Classifier on the Song contained in training Playlists"
   ]
  },
  {
   "cell_type": "code",
   "execution_count": 16,
   "metadata": {},
   "outputs": [
    {
     "name": "stdout",
     "output_type": "stream",
     "text": [
      "Accuracy on train set 0.6117055580282125\n"
     ]
    }
   ],
   "source": [
    "X_train = full_frame[params]\n",
    "y_train = full_frame[\"cluster_id\"]\n",
    "\n",
    "clf = RandomForestClassifier(n_estimators=50, max_depth=20, max_features='sqrt')\n",
    "clf.fit(X_train,y_train)\n",
    "\n",
    "#compute accuracy\n",
    "random_forest_train_score = clf.score(X_train, y_train)\n",
    "print(\"Accuracy on train set\",random_forest_train_score)"
   ]
  },
  {
   "cell_type": "markdown",
   "metadata": {},
   "source": [
    "# Test set"
   ]
  },
  {
   "cell_type": "code",
   "execution_count": 17,
   "metadata": {},
   "outputs": [],
   "source": [
    "count = 0\n",
    "for n,file in enumerate(test_files[0:1]):\n",
    "    df_songs_temp = pd.read_csv(file)\n",
    "    df_songs_temp = df_songs_temp.dropna()\n",
    "    \n",
    "    df_songs_playlist_ids = list(set(df_songs_temp['pid']))\n",
    "    \n",
    "    for play_id in df_songs_playlist_ids:\n",
    "        df_songs_temp_restricted = df_songs_temp[df_songs_temp[\"pid\"] == play_id][params].copy()\n",
    "        if count == 0:\n",
    "            playlist_mean_params_test = [df_songs_temp_restricted.mean(axis=0).values]\n",
    "            count += 1\n",
    "        else:\n",
    "            playlist_mean_params_test = np.append(playlist_mean_params_test,[df_songs_temp_restricted.mean(axis=0).values],axis=0)\n",
    "    # check execution\n",
    "    if (n+1) % 100 == 0:\n",
    "        print((n+1), \"files done!\")"
   ]
  },
  {
   "cell_type": "markdown",
   "metadata": {},
   "source": [
    "# Create Labels for Playlists and hence for songs contained in playlist using KMeans for the train set"
   ]
  },
  {
   "cell_type": "code",
   "execution_count": 18,
   "metadata": {},
   "outputs": [],
   "source": [
    "cluster_labels_test = clusterer.predict(playlist_mean_params_test)"
   ]
  },
  {
   "cell_type": "markdown",
   "metadata": {},
   "source": [
    "# Create labels for Songs contained in Playlists in test set"
   ]
  },
  {
   "cell_type": "code",
   "execution_count": 28,
   "metadata": {},
   "outputs": [
    {
     "name": "stdout",
     "output_type": "stream",
     "text": [
      "1 files done!\n"
     ]
    }
   ],
   "source": [
    "params2 = [\"track_uri\", \"duration_ms\", \"danceability\", \"energy\", \"key\", \"mode\", \"instrumentalness\", \"liveness\", \"valence\", \"tempo\", \"popularity\"]\n",
    "count = 0\n",
    "for n,file in enumerate(test_files[0:1]):\n",
    "    df_songs_temp = pd.read_csv(file)\n",
    "    df_songs_temp = df_songs_temp.dropna()\n",
    "    \n",
    "    df_songs_playlist_ids = list(set(df_songs_temp['pid']))\n",
    "    \n",
    "    for play_id in df_songs_playlist_ids:\n",
    "        df_songs_temp_restricted = df_songs_temp[df_songs_temp[\"pid\"] == play_id][params2].copy()\n",
    "        df_songs_temp_restricted[\"cluster_id\"] = cluster_labels[n]\n",
    "        if count == 0:\n",
    "            full_frame_test = df_songs_temp_restricted.copy()\n",
    "            count += 1\n",
    "        else:\n",
    "            full_frame_test = pd.concat([full_frame_test,df_songs_temp_restricted])\n",
    "    \n",
    "    # check execution\n",
    "print((n+1), \"files done!\")"
   ]
  },
  {
   "cell_type": "markdown",
   "metadata": {},
   "source": [
    "# Predict Song labels in Test Playlist using Random Forest Classifier"
   ]
  },
  {
   "cell_type": "code",
   "execution_count": 29,
   "metadata": {},
   "outputs": [
    {
     "name": "stdout",
     "output_type": "stream",
     "text": [
      "Accuracy on test set 0.9930741335235718\n"
     ]
    }
   ],
   "source": [
    "X_test = full_frame_test[params]\n",
    "y_test = full_frame_test[\"cluster_id\"]\n",
    "\n",
    "#compute accuracy\n",
    "random_forest_test_score = clf.score(X_test, y_test)\n",
    "print(\"Accuracy on test set\",random_forest_test_score)\n"
   ]
  },
  {
   "cell_type": "code",
   "execution_count": null,
   "metadata": {},
   "outputs": [],
   "source": []
  },
  {
   "cell_type": "code",
   "execution_count": null,
   "metadata": {},
   "outputs": [],
   "source": []
  },
  {
   "cell_type": "code",
   "execution_count": null,
   "metadata": {},
   "outputs": [],
   "source": []
  }
 ],
 "metadata": {
  "kernelspec": {
   "display_name": "Python 3",
   "language": "python",
   "name": "python3"
  },
  "language_info": {
   "codemirror_mode": {
    "name": "ipython",
    "version": 3
   },
   "file_extension": ".py",
   "mimetype": "text/x-python",
   "name": "python",
   "nbconvert_exporter": "python",
   "pygments_lexer": "ipython3",
   "version": "3.7.4"
  }
 },
 "nbformat": 4,
 "nbformat_minor": 2
}
