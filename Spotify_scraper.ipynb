{
 "cells": [
  {
   "cell_type": "code",
   "execution_count": 57,
   "metadata": {},
   "outputs": [],
   "source": [
    "from spotipy.oauth2 import SpotifyClientCredentials\n",
    "import spotipy\n",
    "import spotipy.util as util\n",
    "import spotipy.oauth2 as oauth2\n",
    "import pandas as pd\n",
    "import numpy as np\n",
    "import random\n",
    "import time"
   ]
  },
  {
   "cell_type": "code",
   "execution_count": 58,
   "metadata": {},
   "outputs": [],
   "source": [
    "def load_data(filename):\n",
    "    return pd.read_csv(filename)"
   ]
  },
  {
   "cell_type": "code",
   "execution_count": 59,
   "metadata": {},
   "outputs": [],
   "source": [
    "def setup_spotify(client_id='', \n",
    "                  client_secret=''):\n",
    "    \n",
    "    spotify = spotipy.Spotify()\n",
    "\n",
    "    CLIENT_ID = client_id\n",
    "    CLIENT_SECRET = client_secret\n",
    "\n",
    "    credentials = oauth2.SpotifyClientCredentials(\n",
    "            client_id=CLIENT_ID,\n",
    "            client_secret=CLIENT_SECRET)\n",
    "\n",
    "    token = credentials.get_access_token()\n",
    "    spotify = spotipy.Spotify(auth=token)\n",
    "    \n",
    "    return spotify "
   ]
  },
  {
   "cell_type": "code",
   "execution_count": 60,
   "metadata": {},
   "outputs": [],
   "source": [
    "def recursive_spotify_searcher(spotify, track_uri):\n",
    "    try:\n",
    "        return [spotify.tracks(track_uri),\n",
    "                spotify.audio_features(track_uri)]\n",
    "    except Exception as e: \n",
    "        #print(e)\n",
    "        print(\"Waiting 10 seconds...\")\n",
    "        time.sleep(10)\n",
    "        return recursive_spotify_searcher(spotify, track_uri)"
   ]
  },
  {
   "cell_type": "code",
   "execution_count": 61,
   "metadata": {},
   "outputs": [],
   "source": [
    "def get_audio_features(audio_features, data):\n",
    "    \n",
    "    for audio in audio_features:\n",
    "        data[0].append(audio[\"uri\"])\n",
    "        data[1].append(audio[\"danceability\"])\n",
    "        data[2].append(audio[\"energy\"])\n",
    "        data[3].append(audio[\"key\"])\n",
    "        data[4].append(audio[\"loudness\"])\n",
    "        data[5].append(audio[\"mode\"])\n",
    "        data[6].append(audio[\"acousticness\"])\n",
    "        data[7].append(audio[\"instrumentalness\"])\n",
    "        data[8].append(audio[\"liveness\"])\n",
    "        data[9].append(audio[\"valence\"])\n",
    "        data[10].append(audio[\"tempo\"])"
   ]
  },
  {
   "cell_type": "code",
   "execution_count": 62,
   "metadata": {},
   "outputs": [],
   "source": [
    "def get_track_features(track_features, data):\n",
    "\n",
    "    for track in track_features[\"tracks\"]:\n",
    "        if not track:\n",
    "            data[11].append(-1)\n",
    "            data[12].append(-1)\n",
    "        else:\n",
    "            data[11].append(track[\"popularity\"])\n",
    "            data[12].append(track[\"album\"][\"release_date\"])    "
   ]
  },
  {
   "cell_type": "code",
   "execution_count": 63,
   "metadata": {},
   "outputs": [],
   "source": [
    "spotify = setup_spotify()"
   ]
  },
  {
   "cell_type": "code",
   "execution_count": 64,
   "metadata": {},
   "outputs": [],
   "source": [
    "data = []\n",
    "\n",
    "for i in range(13):\n",
    "    data.append([])"
   ]
  },
  {
   "cell_type": "code",
   "execution_count": 65,
   "metadata": {},
   "outputs": [
    {
     "data": {
      "text/plain": [
       "36175"
      ]
     },
     "execution_count": 65,
     "metadata": {},
     "output_type": "execute_result"
    }
   ],
   "source": [
    "songs = load_data(\"./Songs/songs1.csv\")\n",
    "\n",
    "unique_songs = songs.groupby(\"track_uri\").size().reset_index()\n",
    "track_uri = unique_songs[\"track_uri\"].str.split(':')\n",
    "\n",
    "len(unique_songs)"
   ]
  },
  {
   "cell_type": "code",
   "execution_count": 66,
   "metadata": {},
   "outputs": [
    {
     "name": "stdout",
     "output_type": "stream",
     "text": [
      "0\n",
      "[['spotify:track:000xQL6tZNLJzIrtIgxqSl', 'spotify:track:002PgfoyfrOGiKch4EW8Wm', 'spotify:track:004skCQeDn1iLntSom0rRr', 'spotify:track:005CGalYNgMNZcvWMIFeK8', 'spotify:track:005X0FmdtkM1kiutosXLTR', 'spotify:track:009NFK4GeY7xzHCJPrPKdz', 'spotify:track:00AxNl4D4jHL2AEf1W55j5', 'spotify:track:00BnfL75e8vHSGCmwUWbEk', 'spotify:track:00BuKLSAFkaEkaVAgIMbeA', 'spotify:track:00CqEmnPLFKDhAb3cuu6Cs', 'spotify:track:00CujlY4ya5p2FNDu9BCZP', 'spotify:track:00EE6U2juZMvGuMUCTHuas', 'spotify:track:00EfcDboIDLWzvPypeWGDg', 'spotify:track:00FR9VQ0uzF4NNxVKKiMz2', 'spotify:track:00FROhC5g4iJdax5US8jRr', 'spotify:track:00FU5uypELwgQuM9IbFC6G', 'spotify:track:00FaBIFXUfzaaVcsQmTTJY', 'spotify:track:00FjRu5wKkgDfiHognphYv', 'spotify:track:00H4w1nxlzue3YNjaa3Kwg', 'spotify:track:00HZJG1FRNi2Q7KAkZ3UOv', 'spotify:track:00LfFm08VWeZwB0Zlm24AT', 'spotify:track:00NUqFMIpCsrYPbM9YpVHQ', 'spotify:track:00NmK2seXpRFNAEsRBe7lc', 'spotify:track:00NnZ4CDQ7opiVRImcPc9x', 'spotify:track:00OY7B2Tod8sXcZOaK2dIj', 'spotify:track:00QhKEeS9uyJX1WgrWW33p', 'spotify:track:00R0bzXiO7vsXt2AT8OV9g', 'spotify:track:00RDBtylPMV0gJDZfPAb62', 'spotify:track:00RYiT3a2lNQ1wTKBQXWSw', 'spotify:track:00RYw42tKwXecTaVay3BKl', 'spotify:track:00ReeHCY0FQUyuAUyPJdnk', 'spotify:track:00Sadgj3G0NqtbgQrqPCoB', 'spotify:track:00SkFuFG0cGIPnp2olKhTo', 'spotify:track:00UZySJXRYQgnOrlzluIIm', 'spotify:track:00VHzOaRFSDuYAS3fTv85L', 'spotify:track:00WVclSOdTPuLYTott68Wl', 'spotify:track:00Wnp2Nv4JzD5X7JO5Wz2E', 'spotify:track:00XjwOz9DOU0fKnh17GXOv', 'spotify:track:00XsewFGGCOglLz6WZqMDL', 'spotify:track:00Z7agJM4usYHBpHKGNNX9', 'spotify:track:00ZROeHf7xvMw5q8wAYf9O', 'spotify:track:00amaRS950nVV6M4SlVvVl', 'spotify:track:00aoFKbZxBH8vcfVAQg0HG', 'spotify:track:00c9VpjXk7iHdLEEzrAxbr', 'spotify:track:00d5xg90Mvl5bvK18oliSI', 'spotify:track:00dgK4Nln0AJQvI66SLRDb', 'spotify:track:00e8qdyKGWzRD5MBed6cED', 'spotify:track:00epdN0YB5dJFAy9TldnbC', 'spotify:track:00f38vrgYqSytpeS2unGyw', 'spotify:track:00fNdIFKoMxxt8Hnm2kAKL'], [0.748, 0.199, 0.605, 0.634, 0.554, 0.532, 0.574, 0.597, 0.825, 0.575, 0.377, 0.676, 0.537, 0.558, 0.764, 0.6, 0.657, 0.12, 0.355, 0.642, 0.662, 0.504, 0.492, 0.533, 0.546, 0.773, 0.683, 0.817, 0.85, 0.597, 0.672, 0.206, 0.837, 0.769, 0.317, 0.386, 0.333, 0.669, 0.777, 0.451, 0.695, 0.428, 0.866, 0.587, 0.764, 0.52, 0.863, 0.869, 0.468, 0.6], [], [0.627, 0.0376, 0.846, 0.664, 0.517, 0.931, 0.821, 0.468, 0.832, 0.985, 0.745, 0.934, 0.671, 0.609, 0.594, 0.583, 0.852, 0.223, 0.752, 0.949, 0.748, 0.856, 0.936, 0.236, 0.608, 0.931, 0.727, 0.374, 0.687, 0.964, 0.761, 0.259, 0.599, 0.894, 0.993, 0.888, 0.626, 0.577, 0.654, 0.792, 0.836, 0.276, 0.641, 0.62, 0.53, 0.595, 0.757, 0.846, 0.349, 0.908], [7, 8, 9, 0, 5, 9, 2, 8, 5, 2, 8, 1, 1, 1, 6, 9, 11, 0, 1, 6, 5, 11, 10, 11, 8, 0, 4, 7, 0, 4, 0, 11, 7, 0, 10, 9, 8, 11, 9, 1, 5, 2, 6, 11, 10, 2, 0, 7, 0, 1], [-6.029, -31.142, -4.581, -9.303, -6.486, -3.616, -4.742, -9.457, -5.853, -1.038, -5.059, -7.675, -9.74, -8.696, -10.05, -6.617, -6.186, -19.565, -4.224, -1.061, -3.041, -5.024, -2.848, -9.051, -5.614, -3.89, -3.328, -10.824, -5.995, -1.386, -9.644, -10.589, -8.989, -3.379, -3.505, -5.528, -8.051, -7.522, -13.598, -3.689, -4.231, -16.654, -7.673, -6.217, -6.354, -6.19, -7.597, -6.361, -12.36, -3.406], [1, 1, 1, 1, 1, 0, 0, 1, 0, 0, 0, 1, 0, 0, 1, 0, 0, 1, 1, 0, 0, 0, 0, 1, 1, 1, 1, 0, 0, 0, 1, 1, 0, 1, 0, 1, 1, 1, 0, 1, 1, 0, 1, 1, 1, 1, 1, 1, 1, 0], [0.131, 0.985, 0.000738, 0.177, 0.551, 0.00667, 0.000446, 0.0826, 0.00587, 0.0399, 0.0219, 0.0433, 0.791, 0.427, 0.591, 0.0918, 0.0128, 0.822, 0.0353, 0.000594, 0.688, 0.0114, 0.196, 0.867, 0.227, 0.293, 0.256, 0.00151, 0.213, 0.0188, 0.0514, 0.938, 0.759, 0.111, 7.82e-06, 3.43e-05, 0.191, 0.165, 0.0196, 0.56, 0.0218, 0.799, 0.00248, 0.283, 0.75, 0.00896, 0.0119, 0.0983, 0.104, 0.00285], [0, 0.628, 1.25e-06, 0.00322, 0, 0, 2.25e-06, 6.92e-06, 0.000789, 0, 5.16e-05, 0, 8.04e-06, 0, 0, 0, 0, 0.789, 0, 0.38, 8.43e-06, 0, 0.00329, 0, 0, 0.166, 0, 0.55, 0, 8.8e-05, 0, 0.00278, 0, 0, 0.337, 0.0904, 0.732, 8.56e-06, 0.206, 0, 0, 0.0175, 0, 0, 1.43e-05, 0, 0.588, 0, 0.76, 0], [0.0852, 0.115, 0.053, 0.127, 0.176, 0.48, 0.191, 0.0774, 0.114, 0.166, 0.185, 0.805, 0.248, 0.942, 0.145, 0.0992, 0.366, 0.348, 0.0682, 0.0793, 0.0841, 0.256, 0.0843, 0.187, 0.0716, 0.0574, 0.118, 0.0899, 0.0724, 0.195, 0.474, 0.129, 0.0489, 0.0333, 0.223, 0.0692, 0.0852, 0.163, 0.379, 0.086, 0.0459, 0.324, 0.117, 0.128, 0.114, 0.101, 0.0708, 0.257, 0.119, 0.844], [0.524, 0.0891, 0.764, 0.731, 0.355, 0.503, 0.299, 0.353, 0.713, 0.476, 0.344, 0.578, 0.3, 0.748, 0.695, 0.763, 0.79, 0.139, 0.273, 0.626, 0.535, 0.335, 0.76, 0.453, 0.356, 0.962, 0.777, 0.365, 0.502, 0.153, 0.731, 0.153, 0.99, 0.936, 0.243, 0.374, 0.378, 0.542, 0.632, 0.667, 0.882, 0.0352, 0.411, 0.143, 0.744, 0.166, 0.347, 0.576, 0.0719, 0.601], [120.963, 68.167, 132.997, 104.594, 140.301, 137.061, 108.0, 119.555, 122.021, 116.011, 76.526, 94.036, 169.84, 145.51, 87.261, 126.517, 143.004, 82.649, 64.03, 160.04, 82.331, 101.866, 93.141, 130.661, 84.956, 108.708, 87.062, 124.012, 149.989, 100.017, 102.192, 81.641, 118.028, 135.976, 179.936, 75.508, 150.927, 109.132, 149.919, 114.996, 143.98, 34.082, 127.992, 99.926, 107.128, 148.832, 120.022, 89.065, 200.178, 123.996], [67, 30, 49, 0, 0, 0, 55, 57, 11, 55, 42, 42, 41, 42, 54, 46, 55, 13, 18, 35, 10, 56, 40, 35, 39, 17, 0, 20, 44, 45, 50, 20, 0, 50, 18, 55, 11, 50, 11, 0, 22, 10, 33, 2, 34, 46, 38, 11, 35, 39], ['2017-03-23', '1992-01-01', '2010-01-01', '2010', '1966-02-18', '2015-01-23', '2016-06-10', '2015-01-15', '2009-01-01', '2013-10-08', '2015-10-30', '2015-10-02', '2016-01-16', '1997-01-01', '1999-08-24', '2005', '2013-11-05', '1996-01-01', '2010-10-19', '2014-07-09', '2003-01-01', '2011-01-01', '2011-06-17', '2009-01-01', '2006-01-01', '2002', '2012-12-28', '2015-04-03', '2008-05-13', '2014-02-18', '1991-01-01', '2014-09-19', '2014-10-11', '2015-02-10', '2008-10-28', '2016-03-18', '2015-07-09', '2016-01-31', '2010', '2013-04-25', '2012', '2015-04-27', '2015-06-12', '2017-06-28', '2015-02-17', '2015-09-18', '2015-08-10', '1999-01-01', '2012-04-17', '2013-01-01']]\n"
     ]
    }
   ],
   "source": [
    "for i in range(0, len(unique_songs), 50):\n",
    "    print(i)\n",
    "    \n",
    "    track_uri = unique_songs[\"track_uri\"][i:i+50].values\n",
    "    tracks = recursive_spotify_searcher(spotify, track_uri)\n",
    "    get_track_features(tracks[0], data)\n",
    "    get_audio_features(tracks[1], data)\n",
    "    time.sleep(random.choice(np.arange(5)))"
   ]
  },
  {
   "cell_type": "code",
   "execution_count": 50,
   "metadata": {},
   "outputs": [],
   "source": [
    "columns = [\"uri\", \"danceability\", \"energy\", \"key\", \"loudness\",\n",
    "           \"mode\", \"acousticness\", \"instrumentalness\", \n",
    "           \"liveness\", \"valence\", \"tempo\", \"popularity\", \"release_date\"]\n",
    "\n",
    "df = {\n",
    "    \"uri\": data[0],\n",
    "    \"danceability\": data[1],\n",
    "    \"energy\": data[2], \n",
    "    \"key\": data[3], \n",
    "    \"loudness\": data[4],\n",
    "    \"mode\": data[5], \n",
    "    \"acousticness\": data[6], \n",
    "    \"instrumentalness\": data[7], \n",
    "    \"liveness\": data[8], \n",
    "    \"valence\": data[9], \n",
    "    \"tempo\": data[10],\n",
    "    \"popularity\": data[11], \n",
    "    \"release_date\": data[12]\n",
    "}\n",
    "\n",
    "data = pd.DataFrame(df, columns=columns)"
   ]
  },
  {
   "cell_type": "code",
   "execution_count": 53,
   "metadata": {},
   "outputs": [],
   "source": [
    "data.to_csv(\"./Songs_features/song1.csv\", index=False)"
   ]
  },
  {
   "cell_type": "code",
   "execution_count": null,
   "metadata": {},
   "outputs": [],
   "source": []
  },
  {
   "cell_type": "code",
   "execution_count": null,
   "metadata": {},
   "outputs": [],
   "source": []
  }
 ],
 "metadata": {
  "kernelspec": {
   "display_name": "Python 3",
   "language": "python",
   "name": "python3"
  },
  "language_info": {
   "codemirror_mode": {
    "name": "ipython",
    "version": 3
   },
   "file_extension": ".py",
   "mimetype": "text/x-python",
   "name": "python",
   "nbconvert_exporter": "python",
   "pygments_lexer": "ipython3",
   "version": "3.7.3"
  }
 },
 "nbformat": 4,
 "nbformat_minor": 2
}
